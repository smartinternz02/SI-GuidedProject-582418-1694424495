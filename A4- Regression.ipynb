{
 "cells": [
  {
   "cell_type": "code",
   "execution_count": null,
   "metadata": {},
   "outputs": [],
   "source": [
    "print(\"Name: Harish P\")\n",
    "print(\"RegNo: 21BBS0204\")\n",
    "\n",
    "#Importing the Libraries\n",
    "\n",
    "import pandas as pd\n",
    "import numpy as np\n",
    "import matplotlib.pyplot as plt\n",
    "import seaborn as sns\n",
    "from sklearn.preprocessing import LabelEncoder\n",
    "from sklearn.preprocessing import StandardScaler\n",
    "from sklearn.model_selection import train_test_split\n",
    "from scipy import stats\n",
    "from sklearn.linear_model import LinearRegression\n",
    "from sklearn import metrics"
   ]
  },
  {
   "cell_type": "markdown",
   "metadata": {},
   "source": [
    "# Task 1. Loading the Dataset"
   ]
  },
  {
   "cell_type": "code",
   "execution_count": null,
   "metadata": {},
   "outputs": [],
   "source": [
    "df=pd.read_csv(r\"C:\\Users\\hp\\Downloads\\archive (7)\\winequality-red.csv\")\n",
    "df.head()"
   ]
  },
  {
   "cell_type": "markdown",
   "metadata": {},
   "source": [
    "# Task 2. Data Preprocessing Including Visualization\n",
    "\n",
    "Visualization\n"
   ]
  },
  {
   "cell_type": "code",
   "execution_count": null,
   "metadata": {},
   "outputs": [],
   "source": [
    "# Univariate Analysis - 1.\n",
    "\n",
    "sns.histplot(df['fixed acidity'])\n",
    "plt.title('Histogram for Fixed Acidity')\n",
    "plt.show()"
   ]
  },
  {
   "cell_type": "code",
   "execution_count": null,
   "metadata": {},
   "outputs": [],
   "source": [
    "# Univariate Analysis - 2.\n",
    "\n",
    "sns.distplot(df['volatile acidity'])\n",
    "plt.title('Distribution Plot for Volatile Acidity')\n",
    "plt.xlabel('Volatile Acidity')\n",
    "plt.show()"
   ]
  },
  {
   "cell_type": "code",
   "execution_count": null,
   "metadata": {},
   "outputs": [],
   "source": [
    "# Univariate Analysis - 3.\n",
    "\n",
    "x = df.quality.unique().tolist()\n",
    "\n",
    "fig = plt.figure(figsize=(6, 6))\n",
    "fig.patch.set_facecolor('white') \n",
    "\n",
    "plt.pie(df.quality.value_counts(),labels = x,autopct ='%1.1f%%',shadow = True)\n",
    "plt.title('Quality')\n",
    "plt.show()"
   ]
  },
  {
   "cell_type": "code",
   "execution_count": null,
   "metadata": {},
   "outputs": [],
   "source": [
    "# Univariate Analysis 4.\n",
    "\n",
    "sns.boxplot(df.chlorides)\n",
    "plt.xlabel('Chlorides')\n",
    "plt.show()"
   ]
  },
  {
   "cell_type": "code",
   "execution_count": null,
   "metadata": {},
   "outputs": [],
   "source": [
    "# Bivaraiate Analysis - 1. \n",
    "\n",
    "x= df['pH']\n",
    "y= df['quality']\n",
    "\n",
    "plt.bar(x,y)\n",
    "plt.title('Bar Plot for pH vs Quality')\n",
    "plt.xlabel('pH')\n",
    "plt.ylabel('Quality')\n",
    "\n",
    "plt.show()"
   ]
  },
  {
   "cell_type": "code",
   "execution_count": null,
   "metadata": {},
   "outputs": [],
   "source": [
    "# Bivaraiate Analysis - 2.\n",
    "\n",
    "plt.plot(x,y)\n",
    "plt.title('Plot for pH vs Quality')\n",
    "plt.xlabel('pH')\n",
    "plt.ylabel('quality')\n",
    "plt.show()"
   ]
  },
  {
   "cell_type": "code",
   "execution_count": null,
   "metadata": {},
   "outputs": [],
   "source": [
    "# Bivaraiate Analysis - 3.\n",
    "\n",
    "plt.figure(figsize=(8,5))\n",
    "plt.scatter(x,y)\n",
    "plt.title('Scatter Plot for pH vs Quality')\n",
    "plt.xlabel('pH')\n",
    "plt.ylabel('Quality')\n",
    "plt.show()\n"
   ]
  },
  {
   "cell_type": "code",
   "execution_count": null,
   "metadata": {},
   "outputs": [],
   "source": [
    "# Bivaraiate Analysis - 4.\n",
    "\n",
    "g= sns.jointplot(x,y)\n",
    "g.fig.suptitle('Joint Plot',ha=\"center\")\n",
    "plt.xlabel('pH')\n",
    "plt.ylabel('Quality')\n",
    "plt.show()"
   ]
  },
  {
   "cell_type": "code",
   "execution_count": null,
   "metadata": {},
   "outputs": [],
   "source": [
    "#Bivariate Analysis - 5.\n",
    "\n",
    "sns.lineplot(x,y,marker='o')\n",
    "plt.title('Line Plot for pH vs Quality')\n",
    "plt.xlabel('pH')\n",
    "plt.ylabel('Quality')\n",
    "plt.grid(True)\n",
    "plt.show()\n"
   ]
  },
  {
   "cell_type": "code",
   "execution_count": null,
   "metadata": {},
   "outputs": [],
   "source": [
    "# Multivariate Analysis - 1.\n",
    "num = df.select_dtypes(include=['number']).columns.tolist()\n",
    "g= sns.pairplot(df, vars=num)\n",
    "g.fig.suptitle(f'Pairplot between {\", \".join(num)}',ha=\"center\")\n",
    "\n",
    "plt.show()\n"
   ]
  },
  {
   "cell_type": "code",
   "execution_count": null,
   "metadata": {},
   "outputs": [],
   "source": [
    "# Multivariate Analysis - 2.\n",
    "\n",
    "l=df.columns.tolist()\n",
    "plt.figure(figsize=(40,30))\n",
    "sns.heatmap(df.corr(), annot=True, cmap='coolwarm', linewidths=1)\n",
    "plt.title(f'Correlation Heatmap between {\", \".join(l)}')\n",
    "plt.show()"
   ]
  },
  {
   "cell_type": "markdown",
   "metadata": {},
   "source": [
    "Data Preprocessing"
   ]
  },
  {
   "cell_type": "code",
   "execution_count": null,
   "metadata": {},
   "outputs": [],
   "source": [
    "# Descriptive Statistics.\n",
    "\n",
    "df.describe()"
   ]
  },
  {
   "cell_type": "code",
   "execution_count": null,
   "metadata": {},
   "outputs": [],
   "source": [
    "# Handling the Missing Values.\n",
    "\n",
    "df.isnull().sum()\n",
    "\n",
    "# There is null values which has to be handled."
   ]
  },
  {
   "cell_type": "code",
   "execution_count": null,
   "metadata": {},
   "outputs": [],
   "source": [
    "df.info()"
   ]
  },
  {
   "cell_type": "code",
   "execution_count": null,
   "metadata": {},
   "outputs": [],
   "source": [
    "# Finding the outliers and Replacing them. Replacement with Median\n",
    "\n",
    "# Replacement of Outliers in Culmen Length.\n",
    "\n",
    "for i in df.columns.tolist():\n",
    "    plt.boxplot(df[i])\n",
    "    plt.title('Box Plot for {}'.format(i))\n",
    "    plt.ylabel(i.capitalize())\n",
    "    plt.show()\n"
   ]
  },
  {
   "cell_type": "code",
   "execution_count": null,
   "metadata": {},
   "outputs": [],
   "source": [
    "# Finding the Number of Outliers.\n",
    "\n",
    "for i in df.columns.tolist():\n",
    "    q1 = df[i].quantile(0.25)\n",
    "    q3 = df[i].quantile(0.75)\n",
    "    IQR = q3 - q1\n",
    "    lb = q1 - 1.5 * IQR\n",
    "    ub = q3 + 1.5 * IQR\n",
    "    s = 0\n",
    "    for j in df[i]:\n",
    "        if j < lb or j > ub:\n",
    "            s += 1\n",
    "    print('Number of Outliers in {}: {}'.format(i, s))\n"
   ]
  },
  {
   "cell_type": "code",
   "execution_count": null,
   "metadata": {},
   "outputs": [],
   "source": [
    "# Outlier Replacement by Median.\n",
    "\n",
    "def replace_outliers_with_median(data, column, lower_bound, upper_bound):\n",
    "    median = data[column].median()\n",
    "    data[column] = data[column].apply(lambda x: median if x < lower_bound or x > upper_bound else x)\n",
    "    return data\n",
    "\n",
    "for i in df.columns.tolist():\n",
    "    q1 = df[i].quantile(0.25)\n",
    "    q3 = df[i].quantile(0.75)\n",
    "    IQR = q3 - q1\n",
    "    lower_bound = q1 - 1.5 * IQR\n",
    "    upper_bound = q3 + 1.5 * IQR\n",
    "    df = replace_outliers_with_median(df, i, lower_bound, upper_bound)"
   ]
  },
  {
   "cell_type": "code",
   "execution_count": null,
   "metadata": {},
   "outputs": [],
   "source": [
    "# Rechecking for any outliers\n",
    "\n",
    "for i in df.columns.tolist():\n",
    "    plt.boxplot(df[i])\n",
    "    plt.title('Box Plot for {}'.format(i))\n",
    "    plt.ylabel(i.capitalize())\n",
    "    plt.show()\n"
   ]
  },
  {
   "cell_type": "code",
   "execution_count": null,
   "metadata": {},
   "outputs": [],
   "source": [
    "# Rechecking for the number of outliers.\n",
    "\n",
    "for i in df.columns.tolist():\n",
    "    q1 = df[i].quantile(0.25)\n",
    "    q3 = df[i].quantile(0.75)\n",
    "    IQR = q3 - q1\n",
    "    lb = q1 - 1.5 * IQR\n",
    "    ub = q3 + 1.5 * IQR\n",
    "    s = 0\n",
    "    for j in df[i]:\n",
    "        if j < lb or j > ub:\n",
    "            s += 1\n",
    "    print('Number of Outliers in {}: {}'.format(i, s))"
   ]
  },
  {
   "cell_type": "code",
   "execution_count": null,
   "metadata": {},
   "outputs": [],
   "source": [
    "# Check the Correlation of Indpendent Variables with the target\n",
    "\n",
    "df.corr().quality.sort_values(ascending= False)"
   ]
  },
  {
   "cell_type": "code",
   "execution_count": null,
   "metadata": {},
   "outputs": [],
   "source": [
    "# Dependent Variables.\n",
    "\n",
    "y = df['quality']\n",
    "y.head()"
   ]
  },
  {
   "cell_type": "code",
   "execution_count": null,
   "metadata": {},
   "outputs": [],
   "source": [
    "# Independent Variables.\n",
    "\n",
    "x=df.drop(columns =['quality'],axis =1)\n",
    "x.head()"
   ]
  },
  {
   "cell_type": "code",
   "execution_count": null,
   "metadata": {},
   "outputs": [],
   "source": [
    "# Scaling\n",
    "\n",
    "scale =StandardScaler()\n",
    "x_scaled =pd.DataFrame(scale.fit_transform(x),columns = x.columns)\n",
    "x_scaled.head()\n"
   ]
  },
  {
   "cell_type": "code",
   "execution_count": null,
   "metadata": {},
   "outputs": [],
   "source": [
    "# Spliting into Training and Splitting Data.\n",
    "\n",
    "x_train,x_test,y_train,y_test = train_test_split(x_scaled,y,test_size=0.3,random_state=10)"
   ]
  },
  {
   "cell_type": "code",
   "execution_count": null,
   "metadata": {},
   "outputs": [],
   "source": [
    "# Check Shape\n",
    "\n",
    "x_train.shape"
   ]
  },
  {
   "cell_type": "code",
   "execution_count": null,
   "metadata": {},
   "outputs": [],
   "source": [
    "y_train.shape"
   ]
  },
  {
   "cell_type": "code",
   "execution_count": null,
   "metadata": {},
   "outputs": [],
   "source": [
    "x_test.shape"
   ]
  },
  {
   "cell_type": "code",
   "execution_count": null,
   "metadata": {},
   "outputs": [],
   "source": [
    "y_test.shape"
   ]
  },
  {
   "cell_type": "markdown",
   "metadata": {},
   "source": [
    "# Task 3. Machine Learning Model Building\n",
    "\n",
    "Regression\n"
   ]
  },
  {
   "cell_type": "code",
   "execution_count": null,
   "metadata": {},
   "outputs": [],
   "source": [
    "lr = LinearRegression()"
   ]
  },
  {
   "cell_type": "code",
   "execution_count": null,
   "metadata": {},
   "outputs": [],
   "source": [
    "lr.fit(x_train,y_train)"
   ]
  },
  {
   "cell_type": "code",
   "execution_count": null,
   "metadata": {},
   "outputs": [],
   "source": [
    "y_predict = lr.predict(x_test)\n",
    "y_predict"
   ]
  },
  {
   "cell_type": "code",
   "execution_count": null,
   "metadata": {},
   "outputs": [],
   "source": [
    "y_predict1 =lr.predict(x_train)\n",
    "y_predict1"
   ]
  },
  {
   "cell_type": "code",
   "execution_count": null,
   "metadata": {},
   "outputs": [],
   "source": [
    "profit =pd.DataFrame({'Actual Quality':y_test,'Predicted Quality':y_predict})\n",
    "profit"
   ]
  },
  {
   "cell_type": "markdown",
   "metadata": {},
   "source": [
    "# Task 4: Evaluate the Model\n",
    "\n",
    "Regression"
   ]
  },
  {
   "cell_type": "code",
   "execution_count": null,
   "metadata": {},
   "outputs": [],
   "source": [
    "# R2 Score.\n",
    "\n",
    "print(metrics.r2_score(y_test,y_predict))\n",
    "print(metrics.r2_score(y_train,y_predict1))"
   ]
  },
  {
   "cell_type": "code",
   "execution_count": null,
   "metadata": {},
   "outputs": [],
   "source": [
    "# Mean Square Error.\n",
    "\n",
    "print(metrics.mean_squared_error(y_test,y_predict))"
   ]
  },
  {
   "cell_type": "code",
   "execution_count": null,
   "metadata": {},
   "outputs": [],
   "source": [
    "# Root Mean Square Error.\n",
    "\n",
    "print(np.sqrt(metrics.mean_squared_error(y_test,y_predict)))"
   ]
  },
  {
   "cell_type": "markdown",
   "metadata": {},
   "source": [
    "# Task 5: Test with Random Observation\n",
    "\n",
    "Regression"
   ]
  },
  {
   "cell_type": "code",
   "execution_count": null,
   "metadata": {},
   "outputs": [],
   "source": [
    "df.head()"
   ]
  },
  {
   "cell_type": "code",
   "execution_count": null,
   "metadata": {},
   "outputs": [],
   "source": [
    "lr.predict([[11.2,0.7,0.00,2.3,0.075,17.5,34,0.9970,3.51,0.56,10]])"
   ]
  },
  {
   "cell_type": "code",
   "execution_count": null,
   "metadata": {},
   "outputs": [],
   "source": [
    "lr.predict([[11.2,0.7,0.40,1.9,0.075,16.5,23,0.9980,3.21,0.76,5]])"
   ]
  }
 ],
 "metadata": {
  "kernelspec": {
   "display_name": "Python 3.8.8 ('base')",
   "language": "python",
   "name": "python3"
  },
  "language_info": {
   "codemirror_mode": {
    "name": "ipython",
    "version": 3
   },
   "file_extension": ".py",
   "mimetype": "text/x-python",
   "name": "python",
   "nbconvert_exporter": "python",
   "pygments_lexer": "ipython3",
   "version": "3.8.8"
  },
  "orig_nbformat": 4,
  "vscode": {
   "interpreter": {
    "hash": "b302cdd1e032ee910f5c889c3360c28564c92ad4f326fc3102e39fbe47faee66"
   }
  }
 },
 "nbformat": 4,
 "nbformat_minor": 2
}
